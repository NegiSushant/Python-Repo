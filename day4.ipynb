{
 "cells": [
  {
   "cell_type": "markdown",
   "metadata": {},
   "source": [
    "### List\n",
    "* What are list?\n",
    "* List vs Arrays\n",
    "* Characterstics of a list\n",
    "* How to create list\n",
    "* Access items from a list\n",
    "* Editing items in a list\n",
    "* Deleting items from a List\n",
    "* Operations on List\n",
    "* Functions on List\n"
   ]
  },
  {
   "cell_type": "markdown",
   "metadata": {},
   "source": [
    "#### What are Lists?\n",
    "List is a data type where you can store multiple items under 1 name. More technically, lists act like dynamic arrays which means you can add more items on the fly\n",
    "#### Example: \n",
    "* L = [20, 'Hello', 35.55, [12, 10, 9]]\n"
   ]
  },
  {
   "cell_type": "markdown",
   "metadata": {},
   "source": [
    "### Characterstics of a List\n",
    "* Ordered\n",
    "* Changeble / Mutable\n",
    "* Hetrogeneous\n",
    "* Can have duplicates\n",
    "* are dynamic\n",
    "* can be nested\n",
    "* items can be accessed\n",
    "* can contain any kind of objects in python"
   ]
  },
  {
   "cell_type": "markdown",
   "metadata": {},
   "source": [
    "### Creating a List"
   ]
  },
  {
   "cell_type": "code",
   "execution_count": 3,
   "metadata": {},
   "outputs": [
    {
     "name": "stdout",
     "output_type": "stream",
     "text": [
      "[]\n",
      "[1, 2, 3, 4, 5]\n",
      "[1, 2, 3, [4, 7, 8]]\n",
      "[[[1, 2], [3, 4]], [[5, 6], [7, 8]]]\n",
      "[1, True, 5.6, (5+6j), 'Hello']\n",
      "['H', 'e', 'l', 'l', 'o']\n"
     ]
    }
   ],
   "source": [
    "# EmptyList\n",
    "print([])\n",
    "\n",
    "#1D list\n",
    "print([1, 2, 3, 4, 5])\n",
    "\n",
    "#2D List\n",
    "print([1, 2, 3, [4, 7, 8]])\n",
    "\n",
    "# 3D list\n",
    "print([[[1, 2], [3, 4,]], [[5, 6], [7, 8]]])\n",
    "\n",
    "# Hetrogenous \n",
    "print([1, True, 5.6, 5+6j, 'Hello'])\n",
    "\n",
    "#Using Type conversion\n",
    "print(list('Hello'))"
   ]
  },
  {
   "cell_type": "markdown",
   "metadata": {},
   "source": [
    "### Accessing Items from list"
   ]
  },
  {
   "cell_type": "code",
   "execution_count": 11,
   "metadata": {},
   "outputs": [
    {
     "name": "stdout",
     "output_type": "stream",
     "text": [
      "4\n",
      "[1, 4]\n"
     ]
    }
   ],
   "source": [
    "# Indexing\n",
    "L = [1, 2, 3, [4, 5]]\n",
    "\n",
    "#positive Indexing\n",
    "print(L[3][0])\n",
    "\n",
    "\n",
    "# Slicing\n",
    "L = [1, 2, 3, 4, 5, 6]\n",
    "print(L[0: :3])"
   ]
  },
  {
   "cell_type": "markdown",
   "metadata": {},
   "source": [
    "### Adding Items in List"
   ]
  },
  {
   "cell_type": "code",
   "execution_count": 16,
   "metadata": {},
   "outputs": [
    {
     "name": "stdout",
     "output_type": "stream",
     "text": [
      "[1, 2, 3, 4, 5, True]\n",
      "[2, 4, 5, 6, 7, [1, 2, 5, 6]]\n"
     ]
    }
   ],
   "source": [
    "# append\n",
    "L = [1, 2, 3, 4, 5]\n",
    "L.append(True)\n",
    "print(L)\n",
    "w = [2, 4, 5, 6, 7]\n",
    "w.append([1, 2, 5, 6])\n",
    "print(w)"
   ]
  },
  {
   "cell_type": "code",
   "execution_count": 17,
   "metadata": {},
   "outputs": [
    {
     "name": "stdout",
     "output_type": "stream",
     "text": [
      "[1, 2, 3, 4, 5, 6, 7, True]\n",
      "[0, 9, 8, 7, 6, 'S', 'u', 's', 'h', 'a', 'n', 't']\n"
     ]
    }
   ],
   "source": [
    "# extend\n",
    "L = [1, 2, 3, 4, 5]\n",
    "L.extend([6, 7, True])\n",
    "print(L)\n",
    "w = [0, 9, 8, 7, 6]\n",
    "w.extend('Sushant')\n",
    "print(w)"
   ]
  },
  {
   "cell_type": "code",
   "execution_count": 18,
   "metadata": {},
   "outputs": [
    {
     "name": "stdout",
     "output_type": "stream",
     "text": [
      "[1, 2, 3, 121, 4, 5]\n"
     ]
    }
   ],
   "source": [
    "# insert\n",
    "L = [1, 2, 3, 4, 5]\n",
    "L.insert(3, 121)\n",
    "print(L)"
   ]
  },
  {
   "cell_type": "markdown",
   "metadata": {},
   "source": [
    "### Editing items in a List"
   ]
  },
  {
   "cell_type": "code",
   "execution_count": 21,
   "metadata": {},
   "outputs": [
    {
     "name": "stdout",
     "output_type": "stream",
     "text": [
      "[1, 2, 3, 4, 500]\n",
      "[1, 200, 300, 400, 700, 500]\n"
     ]
    }
   ],
   "source": [
    "L = [1, 2, 3, 4, 5]\n",
    "\n",
    "# editing with indexing\n",
    "L[-1] = 500\n",
    "print(L)\n",
    "\n",
    "# editing with slicing\n",
    "L[1: 4] = [200, 300, 400, 700]\n",
    "print(L)"
   ]
  },
  {
   "cell_type": "markdown",
   "metadata": {},
   "source": [
    "### Deleting items from List"
   ]
  },
  {
   "cell_type": "code",
   "execution_count": 24,
   "metadata": {},
   "outputs": [
    {
     "name": "stdout",
     "output_type": "stream",
     "text": [
      "[1, 4]\n"
     ]
    }
   ],
   "source": [
    "#del\n",
    "L = [1, 2, 3, 4, 5]\n",
    "\n",
    "#by indexing\n",
    "del L[-1]\n",
    "\n",
    "#by slicing\n",
    "del L[1:3]\n",
    "\n",
    "print(L)"
   ]
  },
  {
   "cell_type": "code",
   "execution_count": 26,
   "metadata": {},
   "outputs": [
    {
     "name": "stdout",
     "output_type": "stream",
     "text": [
      "[1, 2, 3, 4]\n"
     ]
    }
   ],
   "source": [
    "# remove\n",
    "L = [1, 2, 3, 4, 5]\n",
    "L.remove(5)\n",
    "print(L)"
   ]
  },
  {
   "cell_type": "code",
   "execution_count": 29,
   "metadata": {},
   "outputs": [
    {
     "name": "stdout",
     "output_type": "stream",
     "text": [
      "[1, 2, 3, 4, 5]\n"
     ]
    }
   ],
   "source": [
    "# pop\n",
    "L = [1, 2, 3, 4, 5, 6]\n",
    "L.pop()\n",
    "print(L)"
   ]
  },
  {
   "cell_type": "code",
   "execution_count": 30,
   "metadata": {},
   "outputs": [
    {
     "name": "stdout",
     "output_type": "stream",
     "text": [
      "[]\n"
     ]
    }
   ],
   "source": [
    "# clear\n",
    "L = [2, 1, 5, 6]\n",
    "L.clear()\n",
    "print(L)"
   ]
  },
  {
   "cell_type": "markdown",
   "metadata": {},
   "source": [
    "### Operations on List\n",
    "- Arithmetic\n",
    "- Membership\n",
    "- Loop"
   ]
  },
  {
   "cell_type": "code",
   "execution_count": 32,
   "metadata": {},
   "outputs": [
    {
     "name": "stdout",
     "output_type": "stream",
     "text": [
      "[1, 2, 3, 4, 1, 2, 3, 4]\n",
      "[1, 2, 3, 4, 1, 2, 3, 4, 1, 2, 3, 4]\n"
     ]
    }
   ],
   "source": [
    "# Arithmetic (+ , *)\n",
    "L1 = [1, 2, 3, 4]\n",
    "L2 = [5, 6, 7, 8]\n",
    "\n",
    "# concatenation/merge\n",
    "print(L1 + L1)\n",
    "\n",
    "print(L1 * 3)\n"
   ]
  },
  {
   "cell_type": "code",
   "execution_count": 33,
   "metadata": {},
   "outputs": [
    {
     "name": "stdout",
     "output_type": "stream",
     "text": [
      "False\n",
      "False\n",
      "True\n"
     ]
    }
   ],
   "source": [
    "# membership\n",
    "l1 = [1, 2, 3, 4]\n",
    "l2 = [1, 2, 3, 4, [5, 6]]\n",
    "\n",
    "print(5 in l1)\n",
    "print(5 in l2)\n",
    "print([5, 6] in l2)"
   ]
  },
  {
   "cell_type": "code",
   "execution_count": 34,
   "metadata": {},
   "outputs": [
    {
     "name": "stdout",
     "output_type": "stream",
     "text": [
      "[[1, 2], [3, 4]]\n",
      "[[5, 6], [7, 8]]\n"
     ]
    }
   ],
   "source": [
    "# Loops\n",
    "l1 = [1, 2, 3, 4]\n",
    "l2 = [1, 2, 3, 4, [5, 6]]\n",
    "l3 = [[[1, 2], [3, 4]], [[5, 6], [7, 8]]]\n",
    "\n",
    "for i in l3:\n",
    "    print(i)"
   ]
  },
  {
   "cell_type": "markdown",
   "metadata": {},
   "source": [
    "### List functions\n",
    "- len\n",
    "- min\n",
    "- max\n",
    "- count\n",
    "- index\n",
    "- sorted\n",
    "- sort -> same as sorted but sort is permanent operation\n",
    "- reverse -> permanent operation\n",
    "- copy"
   ]
  },
  {
   "cell_type": "markdown",
   "metadata": {},
   "source": [
    "## List Comprehension\n",
    "List Comprehension provides a concise way of creating list\n",
    "\n",
    "#### syntex:\n",
    "### newlist = [expression for item in iterable if condition == true]\n",
    "\n",
    "Advantages of List Comprehension:\n",
    "- More time-efficient and space-efficient then loops\n",
    "- Require fewer lines of code\n",
    "- Transforms iterative statement into a formula"
   ]
  },
  {
   "cell_type": "code",
   "execution_count": 35,
   "metadata": {},
   "outputs": [
    {
     "name": "stdout",
     "output_type": "stream",
     "text": [
      "[1, 2, 3, 4, 5, 6, 7, 8, 9, 10]\n",
      "[1, 2, 3, 4, 5, 6, 7, 8, 9, 10]\n"
     ]
    }
   ],
   "source": [
    "# Add 1 to 10 numbers to a list\n",
    "l = []\n",
    "for i in range(1, 11):\n",
    "    l.append(i)\n",
    "\n",
    "print(l)\n",
    "\n",
    "L = [i for i in range(1, 11)]\n",
    "print(L)"
   ]
  },
  {
   "cell_type": "code",
   "execution_count": 37,
   "metadata": {},
   "outputs": [
    {
     "data": {
      "text/plain": [
       "[-6, -9, -12]"
      ]
     },
     "execution_count": 37,
     "metadata": {},
     "output_type": "execute_result"
    }
   ],
   "source": [
    "#scalar multiplication on a vector\n",
    "v = [2, 3, 4]\n",
    "s = -3\n",
    "# print(v*s)\n",
    "[s*i for i in v]"
   ]
  },
  {
   "cell_type": "code",
   "execution_count": 38,
   "metadata": {},
   "outputs": [
    {
     "data": {
      "text/plain": [
       "[1, 4, 9, 16, 25]"
      ]
     },
     "execution_count": 38,
     "metadata": {},
     "output_type": "execute_result"
    }
   ],
   "source": [
    "# Add squares\n",
    "L = [1, 2, 3, 4, 5]\n",
    "[i**2 for i in L]"
   ]
  },
  {
   "cell_type": "code",
   "execution_count": 39,
   "metadata": {},
   "outputs": [
    {
     "data": {
      "text/plain": [
       "[5, 10, 15, 20, 25, 30, 35, 40, 45, 50]"
      ]
     },
     "execution_count": 39,
     "metadata": {},
     "output_type": "execute_result"
    }
   ],
   "source": [
    "# print all numbers divisible by 5 in the range of 1 to 50\n",
    "\n",
    "[i for i in range(1, 51) if i % 5 == 0]\n"
   ]
  },
  {
   "cell_type": "code",
   "execution_count": 40,
   "metadata": {},
   "outputs": [
    {
     "data": {
      "text/plain": [
       "['python', 'php']"
      ]
     },
     "execution_count": 40,
     "metadata": {},
     "output_type": "execute_result"
    }
   ],
   "source": [
    "# find language which start with letter p\n",
    "lang = ['java', 'python', 'php', 'c', 'javascripte']\n",
    "\n",
    "[lang for lang in lang if lang.startswith('p')]\n"
   ]
  },
  {
   "cell_type": "code",
   "execution_count": 41,
   "metadata": {},
   "outputs": [
    {
     "data": {
      "text/plain": [
       "[[1, 2, 3], [2, 4, 6], [3, 6, 9]]"
      ]
     },
     "execution_count": 41,
     "metadata": {},
     "output_type": "execute_result"
    }
   ],
   "source": [
    "# print a (3,3) matrix using list comprehension -> Nested List comprehension\n",
    "\n",
    "[[i*j for i in range(1, 4)] for j in range(1, 4)]"
   ]
  },
  {
   "cell_type": "code",
   "execution_count": 42,
   "metadata": {},
   "outputs": [
    {
     "data": {
      "text/plain": [
       "[5, 6, 7, 8, 10, 12, 14, 16, 15, 18, 21, 24, 20, 24, 28, 32]"
      ]
     },
     "execution_count": 42,
     "metadata": {},
     "output_type": "execute_result"
    }
   ],
   "source": [
    "# Cartesian products -> List comprehension on 2 lists together\n",
    "l1 = [1, 2, 3, 4]\n",
    "l2 = [5, 6, 7, 8]\n",
    "\n",
    "[i*j for i in l1 for j in l2]"
   ]
  },
  {
   "cell_type": "markdown",
   "metadata": {},
   "source": [
    "## 2 ways to traverse a list\n",
    "- itemwise\n",
    "- indexwise"
   ]
  },
  {
   "cell_type": "code",
   "execution_count": 43,
   "metadata": {},
   "outputs": [
    {
     "name": "stdout",
     "output_type": "stream",
     "text": [
      "1\n",
      "2\n",
      "3\n",
      "4\n"
     ]
    }
   ],
   "source": [
    "# itemwise\n",
    "l = [1, 2, 3, 4]\n",
    "\n",
    "for i in l:\n",
    "    print(i)"
   ]
  },
  {
   "cell_type": "code",
   "execution_count": 45,
   "metadata": {},
   "outputs": [
    {
     "name": "stdout",
     "output_type": "stream",
     "text": [
      "0\n",
      "0\n",
      "1\n",
      "8\n",
      "2\n",
      "4\n",
      "3\n",
      "5\n",
      "4\n",
      "6\n"
     ]
    }
   ],
   "source": [
    "#indexwise\n",
    "l = [0, 8, 4, 5, 6]\n",
    "\n",
    "for i in range(0, len(l)):\n",
    "    print(i)\n",
    "    print(l[i])"
   ]
  },
  {
   "cell_type": "markdown",
   "metadata": {},
   "source": [
    "## Zip\n",
    "The zip() function returns a zip object, which is an iterator of tuples where the first item in each passed iterator is paired together, and then the second item in each passed iterator are paired together.\n",
    "\n",
    "if the passed iterators have different lengths, the iterator with the least items decides the length of the new iterator."
   ]
  },
  {
   "cell_type": "code",
   "execution_count": 48,
   "metadata": {},
   "outputs": [
    {
     "name": "stdout",
     "output_type": "stream",
     "text": [
      "[(1, -1), (2, -2), (3, -3), (4, -4)]\n"
     ]
    },
    {
     "data": {
      "text/plain": [
       "[0, 0, 0, 0]"
      ]
     },
     "execution_count": 48,
     "metadata": {},
     "output_type": "execute_result"
    }
   ],
   "source": [
    "# write a program to add items of 2 lists indexwise\n",
    "l1 = [1, 2, 3, 4]\n",
    "l2 = [-1, -2, -3, -4]\n",
    "\n",
    "print(list(zip(l1, l2)))\n",
    "\n",
    "[i+j for i, j in zip(l1, l2)]\n"
   ]
  }
 ],
 "metadata": {
  "kernelspec": {
   "display_name": "Python 3",
   "language": "python",
   "name": "python3"
  },
  "language_info": {
   "codemirror_mode": {
    "name": "ipython",
    "version": 3
   },
   "file_extension": ".py",
   "mimetype": "text/x-python",
   "name": "python",
   "nbconvert_exporter": "python",
   "pygments_lexer": "ipython3",
   "version": "3.11.4"
  }
 },
 "nbformat": 4,
 "nbformat_minor": 2
}
