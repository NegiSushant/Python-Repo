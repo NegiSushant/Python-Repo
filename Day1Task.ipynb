{
 "cells": [
  {
   "cell_type": "code",
   "execution_count": 1,
   "metadata": {},
   "outputs": [
    {
     "name": "stdout",
     "output_type": "stream",
     "text": [
      "Data-Science-Mentorship-program-startedBy-Campusx\n"
     ]
    }
   ],
   "source": [
    "print(\"Data\", \"Science\", \"Mentorship\", \"program\", sep='-', end='-started')\n",
    "print(\"By\", \"Campusx\", sep='-')"
   ]
  },
  {
   "cell_type": "code",
   "execution_count": 2,
   "metadata": {},
   "outputs": [
    {
     "name": "stdout",
     "output_type": "stream",
     "text": [
      "77.0 F\n"
     ]
    }
   ],
   "source": [
    "#Celsius to fahrenheit\n",
    "cel = float(input(\"Enter temprature in celcius: \"))\n",
    "faren = cel *(9/5) + 32\n",
    "print(faren, 'F')"
   ]
  },
  {
   "cell_type": "code",
   "execution_count": 3,
   "metadata": {},
   "outputs": [
    {
     "name": "stdout",
     "output_type": "stream",
     "text": [
      "25 12\n"
     ]
    }
   ],
   "source": [
    "#swaping two numbers\n",
    "num1 = int(input(\"Enter 1st number: \"))\n",
    "num2 = int(input(\"Enter 2nd number: \"))\n",
    "temp = num1\n",
    "num1 = num2\n",
    "num2 = temp\n",
    "\n",
    "print(num1, num2)"
   ]
  },
  {
   "cell_type": "code",
   "execution_count": 4,
   "metadata": {},
   "outputs": [
    {
     "name": "stdout",
     "output_type": "stream",
     "text": [
      "3.0\n"
     ]
    }
   ],
   "source": [
    "#Program to find Euqlian distance\n",
    "x1 = int(input(\"Enter x co-ordinate 1st point: \"))\n",
    "x2 = int(input(\"Enter x co-ordinate of 2nd point: \"))\n",
    "y1 = int(input(\"enter y co-ordinate of 1st point: \"))\n",
    "y2 = int(input(\"Enter y co-ordinate of 2nd point: \"))\n",
    "\n",
    "dis = ((x2 - x2)**2 + (y2 - y1)**2)**0.5\n",
    "print(dis)"
   ]
  }
 ],
 "metadata": {
  "kernelspec": {
   "display_name": "Python 3",
   "language": "python",
   "name": "python3"
  },
  "language_info": {
   "codemirror_mode": {
    "name": "ipython",
    "version": 3
   },
   "file_extension": ".py",
   "mimetype": "text/x-python",
   "name": "python",
   "nbconvert_exporter": "python",
   "pygments_lexer": "ipython3",
   "version": "3.11.4"
  }
 },
 "nbformat": 4,
 "nbformat_minor": 2
}
