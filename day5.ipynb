{
 "cells": [
  {
   "cell_type": "markdown",
   "metadata": {},
   "source": [
    "## Tuples\n",
    "A tupple in python is similar to a list. The difference between the two is that we cannot change the elements of a tuple once it is assigned whereas we can change the elements of a list.\n",
    "\n",
    "In short, a tuple is an immutable list. A tuple can not be changed in any way once it is created.\n",
    "\n",
    "#### Characterstics \n",
    "- Ordered \n",
    "- Unchangeble \n",
    "- Allows duplicate"
   ]
  },
  {
   "cell_type": "markdown",
   "metadata": {},
   "source": [
    "## Plan to learning Tuples\n",
    "- Creating a Tuple\n",
    "- Accessing items\n",
    "- Editing items\n",
    "- Adding items \n",
    "- Deleting items\n",
    "- Operations on Tuples\n",
    "- Tuple Functions"
   ]
  },
  {
   "cell_type": "markdown",
   "metadata": {},
   "source": [
    "### Creating Tuples"
   ]
  },
  {
   "cell_type": "code",
   "execution_count": 5,
   "metadata": {},
   "outputs": [
    {
     "name": "stdout",
     "output_type": "stream",
     "text": [
      "()\n",
      "hello\n",
      "(1, 2, 3, 4)\n",
      "(1, 2.5, True, [1, 2, 3])\n",
      "(1, 2, 3, (4, 5))\n",
      "('h', 'e', 'l', 'l', 'o')\n"
     ]
    }
   ],
   "source": [
    "# empty\n",
    "t1 = ()\n",
    "print(t1)\n",
    "\n",
    "# creating a tuple with a single item\n",
    "t2 = ('hello')\n",
    "print(t2)\n",
    "\n",
    "# homo\n",
    "t3 = (1, 2, 3, 4)\n",
    "print(t3)\n",
    "# hetro\n",
    "t4 = (1, 2.5, True, [1, 2, 3])\n",
    "print(t4)\n",
    "\n",
    "# tuple with in tuple\n",
    "t5 = (1, 2, 3, (4, 5))\n",
    "print(t5)\n",
    "\n",
    "#using type conversion\n",
    "t6 = tuple('hello')\n",
    "print(t6)"
   ]
  },
  {
   "cell_type": "markdown",
   "metadata": {},
   "source": [
    "### Accessing Items\n",
    "- Indexing\n",
    "- Slicing"
   ]
  },
  {
   "cell_type": "code",
   "execution_count": 9,
   "metadata": {},
   "outputs": [
    {
     "name": "stdout",
     "output_type": "stream",
     "text": [
      "(1, 2, 3, 4)\n",
      "1\n",
      "4\n",
      "(4, 3, 2, 1)\n",
      "4\n"
     ]
    }
   ],
   "source": [
    "print(t3)\n",
    "print(t3[0])\n",
    "print(t3[-1])\n",
    "print(t3[::-1])\n",
    "print(t5[-1][0])"
   ]
  },
  {
   "cell_type": "markdown",
   "metadata": {},
   "source": [
    "### Editing items"
   ]
  },
  {
   "cell_type": "code",
   "execution_count": 10,
   "metadata": {},
   "outputs": [
    {
     "name": "stdout",
     "output_type": "stream",
     "text": [
      "(1, 2, 3, 4)\n"
     ]
    },
    {
     "ename": "TypeError",
     "evalue": "'tuple' object does not support item assignment",
     "output_type": "error",
     "traceback": [
      "\u001b[1;31m---------------------------------------------------------------------------\u001b[0m",
      "\u001b[1;31mTypeError\u001b[0m                                 Traceback (most recent call last)",
      "Cell \u001b[1;32mIn[10], line 2\u001b[0m\n\u001b[0;32m      1\u001b[0m \u001b[38;5;28mprint\u001b[39m(t3)\n\u001b[1;32m----> 2\u001b[0m \u001b[43mt3\u001b[49m\u001b[43m[\u001b[49m\u001b[38;5;241;43m0\u001b[39;49m\u001b[43m]\u001b[49m \u001b[38;5;241m=\u001b[39m \u001b[38;5;241m100\u001b[39m\n",
      "\u001b[1;31mTypeError\u001b[0m: 'tuple' object does not support item assignment"
     ]
    }
   ],
   "source": [
    "print(t3)\n",
    "t3[0] = 100"
   ]
  },
  {
   "cell_type": "markdown",
   "metadata": {},
   "source": [
    "### Adding Items\n",
    "- not possible"
   ]
  },
  {
   "cell_type": "markdown",
   "metadata": {},
   "source": [
    "### Deleting items"
   ]
  },
  {
   "cell_type": "code",
   "execution_count": 11,
   "metadata": {},
   "outputs": [
    {
     "name": "stdout",
     "output_type": "stream",
     "text": [
      "(1, 2, 3, 4)\n"
     ]
    },
    {
     "ename": "NameError",
     "evalue": "name 't3' is not defined",
     "output_type": "error",
     "traceback": [
      "\u001b[1;31m---------------------------------------------------------------------------\u001b[0m",
      "\u001b[1;31mNameError\u001b[0m                                 Traceback (most recent call last)",
      "Cell \u001b[1;32mIn[11], line 3\u001b[0m\n\u001b[0;32m      1\u001b[0m \u001b[38;5;28mprint\u001b[39m(t3)\n\u001b[0;32m      2\u001b[0m \u001b[38;5;28;01mdel\u001b[39;00m t3\n\u001b[1;32m----> 3\u001b[0m \u001b[38;5;28mprint\u001b[39m(\u001b[43mt3\u001b[49m)\n",
      "\u001b[1;31mNameError\u001b[0m: name 't3' is not defined"
     ]
    }
   ],
   "source": [
    "print(t3)\n",
    "del t3\n",
    "print(t3)"
   ]
  },
  {
   "cell_type": "code",
   "execution_count": 12,
   "metadata": {},
   "outputs": [
    {
     "name": "stdout",
     "output_type": "stream",
     "text": [
      "(1, 2, 3, (4, 5))\n"
     ]
    },
    {
     "ename": "TypeError",
     "evalue": "'tuple' object doesn't support item deletion",
     "output_type": "error",
     "traceback": [
      "\u001b[1;31m---------------------------------------------------------------------------\u001b[0m",
      "\u001b[1;31mTypeError\u001b[0m                                 Traceback (most recent call last)",
      "Cell \u001b[1;32mIn[12], line 2\u001b[0m\n\u001b[0;32m      1\u001b[0m \u001b[38;5;28mprint\u001b[39m(t5)\n\u001b[1;32m----> 2\u001b[0m \u001b[38;5;28;01mdel\u001b[39;00m \u001b[43mt5\u001b[49m\u001b[43m[\u001b[49m\u001b[38;5;241;43m2\u001b[39;49m\u001b[43m]\u001b[49m\n",
      "\u001b[1;31mTypeError\u001b[0m: 'tuple' object doesn't support item deletion"
     ]
    }
   ],
   "source": [
    "print(t5)\n",
    "del t5[2]"
   ]
  },
  {
   "cell_type": "markdown",
   "metadata": {},
   "source": [
    "### Operations on Tuples"
   ]
  },
  {
   "cell_type": "code",
   "execution_count": 15,
   "metadata": {},
   "outputs": [
    {
     "name": "stdout",
     "output_type": "stream",
     "text": [
      "(1, 2, 3, 4, 5, 6, 7, 8, 9)\n",
      "(1, 2, 3, 4, 5, 1, 2, 3, 4, 5)\n",
      "6\n",
      "7\n",
      "8\n",
      "9\n"
     ]
    }
   ],
   "source": [
    "# + and *\n",
    "t1 = (1, 2, 3, 4, 5)\n",
    "t2 = (6, 7, 8, 9)\n",
    "\n",
    "print(t1 + t2)\n",
    "print(t1 * 2)\n",
    "\n",
    "# membership\n",
    "1 in t1\n",
    "\n",
    "# iteration\n",
    "for i in t2:\n",
    "    print(i)"
   ]
  },
  {
   "cell_type": "markdown",
   "metadata": {},
   "source": [
    "### Tuple functions"
   ]
  },
  {
   "cell_type": "code",
   "execution_count": 17,
   "metadata": {},
   "outputs": [
    {
     "name": "stdout",
     "output_type": "stream",
     "text": [
      "5\n",
      "31\n",
      "0\n",
      "19\n",
      "[0, 1, 3, 8, 19]\n",
      "[19, 8, 3, 1, 0]\n"
     ]
    }
   ],
   "source": [
    "# len/sum/min/max/sorted\n",
    "t = (1, 8, 3, 19, 0)\n",
    "\n",
    "print(len(t))\n",
    "print(sum(t))\n",
    "print(min(t))\n",
    "print(max(t))\n",
    "print(sorted(t))\n",
    "print(sorted(t, reverse=True))\n"
   ]
  },
  {
   "cell_type": "code",
   "execution_count": 21,
   "metadata": {},
   "outputs": [
    {
     "name": "stdout",
     "output_type": "stream",
     "text": [
      "2\n",
      "0\n"
     ]
    }
   ],
   "source": [
    "# count\n",
    "\n",
    "t = (1, 2, 3, 4, 5, 1)\n",
    "print(t.count(1))\n",
    "\n",
    "# index\n",
    "print(t.index(1))"
   ]
  },
  {
   "cell_type": "markdown",
   "metadata": {},
   "source": [
    "### why use tuple?"
   ]
  },
  {
   "cell_type": "markdown",
   "metadata": {},
   "source": [
    "### Special Syntax"
   ]
  },
  {
   "cell_type": "code",
   "execution_count": 1,
   "metadata": {},
   "outputs": [],
   "source": [
    "# tuple unpacking\n",
    "a, b, c =(1, 2, 3)"
   ]
  },
  {
   "cell_type": "code",
   "execution_count": 2,
   "metadata": {},
   "outputs": [
    {
     "name": "stdout",
     "output_type": "stream",
     "text": [
      "2 1\n"
     ]
    }
   ],
   "source": [
    "a = 1\n",
    "b = 2\n",
    "\n",
    "a, b = b, a\n",
    "\n",
    "print(a, b)"
   ]
  },
  {
   "cell_type": "code",
   "execution_count": 3,
   "metadata": {},
   "outputs": [
    {
     "name": "stdout",
     "output_type": "stream",
     "text": [
      "1 2\n",
      "[3, 4]\n"
     ]
    }
   ],
   "source": [
    "a, b, *others =(1, 2, 3, 4)\n",
    "print(a, b)\n",
    "\n",
    "print(others)"
   ]
  },
  {
   "cell_type": "code",
   "execution_count": 4,
   "metadata": {},
   "outputs": [
    {
     "data": {
      "text/plain": [
       "((1, 5), (2, 6), (3, 7), (4, 8))"
      ]
     },
     "execution_count": 4,
     "metadata": {},
     "output_type": "execute_result"
    }
   ],
   "source": [
    "# zipping tuples\n",
    "\n",
    "a = (1, 2, 3, 4)\n",
    "b = (5, 6, 7, 8)\n",
    "\n",
    "tuple(zip(a, b))"
   ]
  },
  {
   "cell_type": "markdown",
   "metadata": {},
   "source": [
    "## Sets\n",
    "A set is an unordered collection of items. Every set element is unique(no duplicates) and must be immutable (cannot be changed).\n",
    "However, a set itself is mutable. We can add or remove items from it.\n",
    "\n",
    "Sets can also be used to perform mathematical set operations like union, intersection, symmetric difference, etc.\n",
    "\n",
    "#### Characterstics:\n",
    "- Unordered\n",
    "- Mutable\n",
    "- No Duplicates\n",
    "- Can't contain mutable data types"
   ]
  },
  {
   "cell_type": "markdown",
   "metadata": {},
   "source": [
    "#### Creating Sets"
   ]
  },
  {
   "cell_type": "code",
   "execution_count": 11,
   "metadata": {},
   "outputs": [
    {
     "name": "stdout",
     "output_type": "stream",
     "text": [
      "set()\n",
      "<class 'set'>\n",
      "{1, 2, 3}\n",
      "<class 'set'>\n",
      "{1, (1, 2, 3, 6), 'Hello', 4.5}\n",
      "<class 'set'>\n",
      "{1, 2, 3, 4}\n",
      "{1, 2, 3, 4, 5, 6}\n"
     ]
    },
    {
     "ename": "TypeError",
     "evalue": "unhashable type: 'list'",
     "output_type": "error",
     "traceback": [
      "\u001b[1;31m---------------------------------------------------------------------------\u001b[0m",
      "\u001b[1;31mTypeError\u001b[0m                                 Traceback (most recent call last)",
      "Cell \u001b[1;32mIn[11], line 28\u001b[0m\n\u001b[0;32m     25\u001b[0m \u001b[38;5;28mprint\u001b[39m(s5)\n\u001b[0;32m     27\u001b[0m \u001b[38;5;66;03m#set can't have mutable items\u001b[39;00m\n\u001b[1;32m---> 28\u001b[0m s6 \u001b[38;5;241m=\u001b[39m {\u001b[38;5;241m1\u001b[39m, \u001b[38;5;241m2\u001b[39m, [\u001b[38;5;241m2\u001b[39m, \u001b[38;5;241m4\u001b[39m]}\n\u001b[0;32m     29\u001b[0m \u001b[38;5;28mprint\u001b[39m(s6)\n",
      "\u001b[1;31mTypeError\u001b[0m: unhashable type: 'list'"
     ]
    }
   ],
   "source": [
    "# empty\n",
    "s = set()\n",
    "print(s)\n",
    "print(type(s))\n",
    "\n",
    "# 1D and 2D\n",
    "s1 = {1, 2, 3}\n",
    "print(s1)\n",
    "print(type(s1))\n",
    "\n",
    "# s2 = {1, 2, 3, {4, 5}}\n",
    "# print(s2)\n",
    "\n",
    "# homo and hetro\n",
    "s3 = {1, 'Hello', 4.5, True, (1, 2, 3, 6)}\n",
    "print(s3)\n",
    "print(type(s3))\n",
    "\n",
    "# using type conversion\n",
    "s4 = set([1, 2, 3, 4,])\n",
    "print(s4)\n",
    "\n",
    "#duplicates not allowed \n",
    "s5 = {1, 2, 2, 3, 4, 3, 4, 5, 6,6}\n",
    "print(s5)\n",
    "\n",
    "#set can't have mutable items\n",
    "s6 = {1, 2, [2, 4]}\n",
    "print(s6)\n"
   ]
  },
  {
   "cell_type": "markdown",
   "metadata": {},
   "source": [
    "### Acessing items from set"
   ]
  },
  {
   "cell_type": "code",
   "execution_count": 13,
   "metadata": {},
   "outputs": [
    {
     "ename": "TypeError",
     "evalue": "'set' object is not subscriptable",
     "output_type": "error",
     "traceback": [
      "\u001b[1;31m---------------------------------------------------------------------------\u001b[0m",
      "\u001b[1;31mTypeError\u001b[0m                                 Traceback (most recent call last)",
      "Cell \u001b[1;32mIn[13], line 4\u001b[0m\n\u001b[0;32m      1\u001b[0m \u001b[38;5;66;03m#Set can't be accessible \u001b[39;00m\n\u001b[0;32m      2\u001b[0m \u001b[38;5;66;03m#indexing and slicing doesnot work\u001b[39;00m\n\u001b[0;32m      3\u001b[0m s \u001b[38;5;241m=\u001b[39m {\u001b[38;5;241m1\u001b[39m, \u001b[38;5;241m2\u001b[39m, \u001b[38;5;241m3\u001b[39m, \u001b[38;5;241m5\u001b[39m}\n\u001b[1;32m----> 4\u001b[0m \u001b[43ms\u001b[49m\u001b[43m[\u001b[49m\u001b[38;5;241;43m0\u001b[39;49m\u001b[43m]\u001b[49m\n",
      "\u001b[1;31mTypeError\u001b[0m: 'set' object is not subscriptable"
     ]
    }
   ],
   "source": [
    "#Set can't be accessible \n",
    "#indexing and slicing doesnot work\n",
    "s = {1, 2, 3, 5}\n",
    "s[0]"
   ]
  },
  {
   "cell_type": "markdown",
   "metadata": {},
   "source": [
    "### Editing Items"
   ]
  },
  {
   "cell_type": "code",
   "execution_count": 14,
   "metadata": {},
   "outputs": [
    {
     "ename": "TypeError",
     "evalue": "'set' object does not support item assignment",
     "output_type": "error",
     "traceback": [
      "\u001b[1;31m---------------------------------------------------------------------------\u001b[0m",
      "\u001b[1;31mTypeError\u001b[0m                                 Traceback (most recent call last)",
      "Cell \u001b[1;32mIn[14], line 2\u001b[0m\n\u001b[0;32m      1\u001b[0m s \u001b[38;5;241m=\u001b[39m {\u001b[38;5;241m1\u001b[39m, \u001b[38;5;241m2\u001b[39m, \u001b[38;5;241m4\u001b[39m, \u001b[38;5;241m22\u001b[39m, \u001b[38;5;241m11\u001b[39m}\n\u001b[1;32m----> 2\u001b[0m \u001b[43ms\u001b[49m\u001b[43m[\u001b[49m\u001b[38;5;241;43m0\u001b[39;49m\u001b[43m]\u001b[49m \u001b[38;5;241m=\u001b[39m \u001b[38;5;241m10\u001b[39m\n",
      "\u001b[1;31mTypeError\u001b[0m: 'set' object does not support item assignment"
     ]
    }
   ],
   "source": [
    "s = {1, 2, 4, 22, 11}\n",
    "s[0] = 10"
   ]
  },
  {
   "cell_type": "markdown",
   "metadata": {},
   "source": [
    "#### Adding Items"
   ]
  },
  {
   "cell_type": "code",
   "execution_count": 17,
   "metadata": {},
   "outputs": [
    {
     "name": "stdout",
     "output_type": "stream",
     "text": [
      "{1, 2, 3, 4, 10}\n",
      "{0, 1, 2, 3, 9, 10, 11, 15, 21}\n"
     ]
    }
   ],
   "source": [
    "s = {1, 2, 3, 4}\n",
    "#add -> add single items\n",
    "s.add(10)\n",
    "print(s)\n",
    "\n",
    "#update-> add multiple items\n",
    "w = {9, 2, 3, 1, 11}\n",
    "w.update([10, 0, 21, 15])\n",
    "print(w)"
   ]
  },
  {
   "cell_type": "markdown",
   "metadata": {},
   "source": [
    "### Deleting Items"
   ]
  },
  {
   "cell_type": "code",
   "execution_count": 27,
   "metadata": {},
   "outputs": [
    {
     "name": "stdout",
     "output_type": "stream",
     "text": [
      "{12, 13, 14, 15}\n",
      "{21, 22, 24, 25, 26}\n",
      "21\n",
      "set()\n"
     ]
    }
   ],
   "source": [
    "# del -> delete whole set but can't delete the perticuler item\n",
    "s = {1, 2, 3, 4, 5}\n",
    "del s\n",
    "\n",
    "# discard -> delete perticuler item but if item not persent in set it doesn't throw error\n",
    "w = {11, 12, 13, 14, 15}\n",
    "w.discard(11)\n",
    "w.discard(50)\n",
    "print(w)\n",
    "\n",
    "# remove -> delete perticuler item but if item not persent in set it throw error\n",
    "t = {21, 22, 23, 24, 25, 26}\n",
    "t.remove(23)\n",
    "# t.remove(30)\n",
    "print(t)\n",
    "\n",
    "# pop-> delete random item\n",
    "print(t.pop())\n",
    "\n",
    "# clear-> clear the whole set\n",
    "t.clear()\n",
    "print(t)\n"
   ]
  },
  {
   "cell_type": "markdown",
   "metadata": {},
   "source": [
    "### Set Operations"
   ]
  },
  {
   "cell_type": "code",
   "execution_count": 28,
   "metadata": {},
   "outputs": [
    {
     "name": "stdout",
     "output_type": "stream",
     "text": [
      "{1, 2, 3, 4, 5, 6, 7, 8}\n",
      "{4, 5}\n",
      "{1, 2, 3}\n",
      "{8, 6, 7}\n",
      "{1, 2, 3, 6, 7, 8}\n",
      "True\n",
      "True\n",
      "1\n",
      "2\n",
      "3\n",
      "4\n",
      "5\n"
     ]
    }
   ],
   "source": [
    "s1 = {1, 2, 3, 4, 5}\n",
    "s2 = {4, 5, 6, 7, 8}\n",
    "\n",
    "#Union(|)\n",
    "print(s1 | s2)\n",
    "\n",
    "#intersection(&)\n",
    "print(s1 & s2)\n",
    "\n",
    "# Defference(-)\n",
    "print(s1 - s2)\n",
    "print(s2 - s1)\n",
    "\n",
    "# Symmetric Difference(^)\n",
    "print(s1 ^ s2)\n",
    "\n",
    "#Membership test\n",
    "print(1 in s1)\n",
    "print(1 not in s2)\n",
    "\n",
    "# iteratin \n",
    "for i in s1:\n",
    "    print(i)"
   ]
  },
  {
   "cell_type": "markdown",
   "metadata": {},
   "source": [
    " ### Set Functions"
   ]
  },
  {
   "cell_type": "code",
   "execution_count": 29,
   "metadata": {},
   "outputs": [
    {
     "name": "stdout",
     "output_type": "stream",
     "text": [
      "5\n",
      "15\n",
      "1\n",
      "5\n",
      "[5, 4, 3, 2, 1]\n"
     ]
    }
   ],
   "source": [
    "# len/sum/min/max/sorted\n",
    "s = {1, 2, 3, 4, 5}\n",
    "print(len(s))\n",
    "print(sum(s))\n",
    "print(min(s))\n",
    "print(max(s))\n",
    "print(sorted(s, reverse=True))"
   ]
  },
  {
   "cell_type": "code",
   "execution_count": 31,
   "metadata": {},
   "outputs": [
    {
     "name": "stdout",
     "output_type": "stream",
     "text": [
      "{1, 2, 3, 4, 5}\n",
      "None\n",
      "{1, 2, 3, 4, 5, 6, 7, 8}\n",
      "{4, 5, 6, 7, 8}\n",
      "set()\n",
      "None\n",
      "set()\n",
      "{16, 17, 18, 15}\n"
     ]
    }
   ],
   "source": [
    "# union/update\n",
    "s1 = {1, 2, 3, 4, 5}\n",
    "s2 = {4, 5, 6, 7, 8}\n",
    "\n",
    "#s1|s2\n",
    "print(s1.union(s1))\n",
    "print(s1.update(s2))\n",
    "\n",
    "print(s1)\n",
    "print(s2)\n",
    "# intersection / intersection_update\n",
    "w1 = {11, 12, 13, 14}\n",
    "w2 = {15, 16, 17, 18}\n",
    "\n",
    "print(w1.intersection(w2))\n",
    "print(w1.intersection_update(w2))\n",
    "\n",
    "print(w1)\n",
    "print(w2)"
   ]
  },
  {
   "cell_type": "code",
   "execution_count": 32,
   "metadata": {},
   "outputs": [
    {
     "name": "stdout",
     "output_type": "stream",
     "text": [
      "{11, 12, 13, 14}\n",
      "None\n",
      "{11, 12, 13, 14}\n",
      "{16, 17, 18, 15}\n"
     ]
    }
   ],
   "source": [
    "# diffrence / difference_update\n",
    "w1 = {11, 12, 13, 14}\n",
    "w2 = {15, 16, 17, 18}\n",
    "\n",
    "print(w1.difference(w2))\n",
    "print(w1.difference_update(w2))\n",
    "\n",
    "print(w1)\n",
    "print(w2)"
   ]
  },
  {
   "cell_type": "code",
   "execution_count": 33,
   "metadata": {},
   "outputs": [
    {
     "name": "stdout",
     "output_type": "stream",
     "text": [
      "{11, 12, 13, 14, 15, 16, 17, 18}\n",
      "None\n",
      "{11, 12, 13, 14, 15, 16, 17, 18}\n",
      "{16, 17, 18, 15}\n"
     ]
    }
   ],
   "source": [
    "# Symetric_diffrence / Symetric_difference_update\n",
    "w1 = {11, 12, 13, 14}\n",
    "w2 = {15, 16, 17, 18}\n",
    "\n",
    "print(w1.symmetric_difference(w2))\n",
    "print(w1.symmetric_difference_update(w2))\n",
    "\n",
    "print(w1)\n",
    "print(w2)"
   ]
  },
  {
   "cell_type": "code",
   "execution_count": 34,
   "metadata": {},
   "outputs": [
    {
     "data": {
      "text/plain": [
       "True"
      ]
     },
     "execution_count": 34,
     "metadata": {},
     "output_type": "execute_result"
    }
   ],
   "source": [
    "# isdisjoint/issubset/issuperset\n",
    "s = {1, 2, 3, 4, 5}\n",
    "t = {8, 9, 10, 6, 7}\n",
    "\n",
    "s.isdisjoint(w)"
   ]
  },
  {
   "cell_type": "markdown",
   "metadata": {},
   "source": [
    "### frozenset\n",
    "- Frozen set is just an immutable version of python set object"
   ]
  },
  {
   "cell_type": "code",
   "execution_count": 36,
   "metadata": {},
   "outputs": [
    {
     "name": "stdout",
     "output_type": "stream",
     "text": [
      "frozenset({1, 2, 3})\n"
     ]
    }
   ],
   "source": [
    "# create frozenset\n",
    "fs = frozenset([1, 2, 3])\n",
    "print(fs)"
   ]
  },
  {
   "cell_type": "code",
   "execution_count": null,
   "metadata": {},
   "outputs": [],
   "source": [
    "# what works and what does not\n",
    "# works -> all read functions\n",
    "# doesn't work => write operations\n",
    "# when to use\n",
    "# 2D sets -> possible"
   ]
  },
  {
   "cell_type": "markdown",
   "metadata": {},
   "source": [
    "### Set Comprehension"
   ]
  },
  {
   "cell_type": "code",
   "execution_count": 38,
   "metadata": {},
   "outputs": [
    {
     "data": {
      "text/plain": [
       "{36, 49, 64, 81, 100}"
      ]
     },
     "execution_count": 38,
     "metadata": {},
     "output_type": "execute_result"
    }
   ],
   "source": [
    "# example\n",
    "{i**2 for i in range(1, 11) if i > 5}"
   ]
  },
  {
   "cell_type": "markdown",
   "metadata": {},
   "source": [
    "### Dictionary\n",
    "\n",
    "Dictionary in python is a collection of keys values, used to store data values like a map, which unlike other data types which hold only a single values as an element.\n",
    "\n",
    "In some languages it is known as map or assoiative arrays.\n",
    "\n",
    "- dict = {'name': 'sushant', 'from': 'uttarakhand', 'gender': 'Male'}\n",
    "\n",
    "##### Characterstics\n",
    "- Mutable\n",
    "- Indexing has no meaning\n",
    "- keys can't be duplicated\n",
    "- keys can't be mutable items"
   ]
  },
  {
   "cell_type": "markdown",
   "metadata": {},
   "source": [
    "### Creating Dictionary"
   ]
  },
  {
   "cell_type": "code",
   "execution_count": 43,
   "metadata": {},
   "outputs": [
    {
     "name": "stdout",
     "output_type": "stream",
     "text": [
      "{}\n",
      "{'name': 'sushant', 'gender': 'male'}\n",
      "{(1, 2, 3): 1, 'hello': 'World'}\n",
      "{'name': 'sushant', 'college': 'kiet', 'sem': 4, 'subject': {'dsa': 50, 'os': 63, 'CN': 76}}\n",
      "{1: 1, 'name': 'sushant', 2: 'something'}\n",
      "{'name': 'sushant', (1, 2, 3): 12}\n"
     ]
    }
   ],
   "source": [
    "# empty dictionary\n",
    "d ={ }\n",
    "print(d)\n",
    "\n",
    "# 1D dictionary\n",
    "d1 = {'name': 'sushant', 'gender':'male'}\n",
    "print(d1)\n",
    "\n",
    "# with mixed keys\n",
    "d2 = {(1, 2, 3):1, 'hello': 'World'}\n",
    "print(d2)\n",
    "\n",
    "# 2D dictionary\n",
    "s = {\n",
    "    'name': 'sushant',\n",
    "    'college': 'kiet',\n",
    "    'sem': 4,\n",
    "    'subject':{\n",
    "        'dsa': 50,\n",
    "        'os': 63,\n",
    "        'CN': 76\n",
    "    }\n",
    "}\n",
    "print(s)\n",
    "\n",
    "#using sequence and dict function\n",
    "d4 = dict([(1,1),('name', 'sushant'),(2, 'something')])\n",
    "print(d4)\n",
    "\n",
    "\n",
    "# mutable item as keys\n",
    "d6 = {'name':'sushant', (1,2,3):12}\n",
    "print(d6)\n"
   ]
  },
  {
   "cell_type": "markdown",
   "metadata": {},
   "source": [
    "### Accessing Items"
   ]
  },
  {
   "cell_type": "code",
   "execution_count": 45,
   "metadata": {},
   "outputs": [
    {
     "name": "stdout",
     "output_type": "stream",
     "text": [
      "jack\n",
      "25\n"
     ]
    }
   ],
   "source": [
    "my_dict = {'name': 'jack', 'age': 25}\n",
    "\n",
    "# []\n",
    "print(my_dict['name'])\n",
    "\n",
    "# get\n",
    "print(my_dict.get('age'))"
   ]
  },
  {
   "cell_type": "markdown",
   "metadata": {},
   "source": [
    "### Adding key-value pair"
   ]
  },
  {
   "cell_type": "code",
   "execution_count": 46,
   "metadata": {},
   "outputs": [
    {
     "name": "stdout",
     "output_type": "stream",
     "text": [
      "{'name': 'jack', 'age': 25, 'gender': 'male'}\n"
     ]
    }
   ],
   "source": [
    "my_dict['gender']='male'\n",
    "\n",
    "print(my_dict)"
   ]
  },
  {
   "cell_type": "markdown",
   "metadata": {},
   "source": [
    "### removing key-vaue pair"
   ]
  },
  {
   "cell_type": "code",
   "execution_count": 56,
   "metadata": {},
   "outputs": [
    {
     "name": "stdout",
     "output_type": "stream",
     "text": [
      "{'age': 21, 3: 3, 'gender': 'male', 'weight': 70}\n",
      "{'age': 21, 3: 3, 'gender': 'male'}\n",
      "{'age': 21, 3: 3}\n",
      "{}\n"
     ]
    }
   ],
   "source": [
    "d = {'name':'jack', 'age': 21, 3: 3, 'gender':'male', 'weight': 70}\n",
    "\n",
    "# pop\n",
    "d.pop('name')\n",
    "print(d)\n",
    "\n",
    "# popitem -> remove the last item from dictionary\n",
    "d.popitem()\n",
    "print(d)\n",
    "\n",
    "# del-> remove all dictionary as well as perticular item\n",
    "# del d\n",
    "del d['gender']\n",
    "print(d)\n",
    "\n",
    "# clear -> clear the all dictionary\n",
    "d.clear()\n",
    "print(d)\n"
   ]
  },
  {
   "cell_type": "markdown",
   "metadata": {},
   "source": [
    "### Editing key-value pair"
   ]
  },
  {
   "cell_type": "code",
   "execution_count": 57,
   "metadata": {},
   "outputs": [
    {
     "name": "stdout",
     "output_type": "stream",
     "text": [
      "{'name': 'Messi', 'age': 25, 'gender': 'male'}\n"
     ]
    }
   ],
   "source": [
    "my_dict['name'] = 'Messi'\n",
    "print(my_dict)"
   ]
  },
  {
   "cell_type": "markdown",
   "metadata": {},
   "source": [
    "### Dictionary Operations\n",
    "- Membership\n",
    "- Iterations"
   ]
  },
  {
   "cell_type": "code",
   "execution_count": 58,
   "metadata": {},
   "outputs": [
    {
     "name": "stdout",
     "output_type": "stream",
     "text": [
      "{'name': 'Messi', 'age': 25, 'gender': 'male'}\n"
     ]
    },
    {
     "data": {
      "text/plain": [
       "True"
      ]
     },
     "execution_count": 58,
     "metadata": {},
     "output_type": "execute_result"
    }
   ],
   "source": [
    "# membership-> work on keys\n",
    "print(my_dict)\n",
    "'name' in my_dict"
   ]
  },
  {
   "cell_type": "markdown",
   "metadata": {},
   "source": [
    "### Dictionary functions"
   ]
  },
  {
   "cell_type": "code",
   "execution_count": 59,
   "metadata": {},
   "outputs": [
    {
     "name": "stdout",
     "output_type": "stream",
     "text": [
      "3\n",
      "['name', 'gender', 'age']\n",
      "age\n",
      "name\n"
     ]
    }
   ],
   "source": [
    "print(len(my_dict))\n",
    "print(sorted(my_dict, reverse=True))\n",
    "print(min(my_dict))\n",
    "print(max(my_dict))"
   ]
  },
  {
   "cell_type": "code",
   "execution_count": 60,
   "metadata": {},
   "outputs": [
    {
     "name": "stdout",
     "output_type": "stream",
     "text": [
      "dict_items([('name', 'Messi'), ('age', 25), ('gender', 'male')])\n",
      "dict_keys(['name', 'age', 'gender'])\n",
      "dict_values(['Messi', 25, 'male'])\n"
     ]
    }
   ],
   "source": [
    "# items/keys/values\n",
    "print(my_dict.items())\n",
    "print(my_dict.keys())\n",
    "print(my_dict.values())"
   ]
  },
  {
   "cell_type": "markdown",
   "metadata": {},
   "source": [
    "### Dictionary Comprehension\n",
    "#### {key: value for vars in iterables}"
   ]
  },
  {
   "cell_type": "code",
   "execution_count": 61,
   "metadata": {},
   "outputs": [
    {
     "data": {
      "text/plain": [
       "{1: 1, 2: 2, 3: 3, 4: 4, 5: 5, 6: 6, 7: 7, 8: 8, 9: 9, 10: 10}"
      ]
     },
     "execution_count": 61,
     "metadata": {},
     "output_type": "execute_result"
    }
   ],
   "source": [
    "# print 1st 10 numbers and theire squarea\n",
    "{i:i**1 for i in range(1, 11)}"
   ]
  },
  {
   "cell_type": "code",
   "execution_count": 62,
   "metadata": {},
   "outputs": [
    {
     "name": "stdout",
     "output_type": "stream",
     "text": [
      "dict_items([('delhi', 1000), ('mumbai', 2000), ('banglore', 3000)])\n"
     ]
    }
   ],
   "source": [
    "distance = {'delhi': 1000, 'mumbai': 2000, 'banglore': 3000}\n",
    "\n",
    "print(distance.items())"
   ]
  },
  {
   "cell_type": "code",
   "execution_count": 63,
   "metadata": {},
   "outputs": [
    {
     "data": {
      "text/plain": [
       "{'delhi': 620.0, 'mumbai': 1240.0, 'banglore': 1860.0}"
      ]
     },
     "execution_count": 63,
     "metadata": {},
     "output_type": "execute_result"
    }
   ],
   "source": [
    "# using existing dict\n",
    "distance = {'delhi': 1000, 'mumbai': 2000, 'banglore': 3000}\n",
    "{key: value*0.62 for (key, value) in distance.items()}"
   ]
  },
  {
   "cell_type": "code",
   "execution_count": 65,
   "metadata": {},
   "outputs": [
    {
     "data": {
      "text/plain": [
       "{'Sunday': 30.5,\n",
       " 'Monday': 32.3,\n",
       " 'Tuesday': 31.8,\n",
       " 'Thursday': 33.4,\n",
       " 'Friday': 29.4,\n",
       " 'Saturday': 30.2}"
      ]
     },
     "execution_count": 65,
     "metadata": {},
     "output_type": "execute_result"
    }
   ],
   "source": [
    "#using zip\n",
    "day = ['Sunday', 'Monday', 'Tuesday', 'Thursday', 'Friday', 'Saturday']\n",
    "temp = [30.5, 32.3, 31.8, 33.4, 29.4, 30.2]\n",
    "\n",
    "{i:j for (i, j) in zip (day, temp)}"
   ]
  },
  {
   "cell_type": "code",
   "execution_count": 66,
   "metadata": {},
   "outputs": [
    {
     "data": {
      "text/plain": [
       "{2: {1: 2, 2: 4, 3: 6, 4: 8, 5: 10, 6: 12, 7: 14, 8: 16, 9: 18, 10: 20},\n",
       " 3: {1: 3, 2: 6, 3: 9, 4: 12, 5: 15, 6: 18, 7: 21, 8: 24, 9: 27, 10: 30},\n",
       " 4: {1: 4, 2: 8, 3: 12, 4: 16, 5: 20, 6: 24, 7: 28, 8: 32, 9: 36, 10: 40}}"
      ]
     },
     "execution_count": 66,
     "metadata": {},
     "output_type": "execute_result"
    }
   ],
   "source": [
    "# Nested comprihension\n",
    "# print table of number from 2 to 4\n",
    "\n",
    "{i:{j: i*j for j in range (1, 11)} for i in range(2, 5)}"
   ]
  }
 ],
 "metadata": {
  "kernelspec": {
   "display_name": "Python 3",
   "language": "python",
   "name": "python3"
  },
  "language_info": {
   "codemirror_mode": {
    "name": "ipython",
    "version": 3
   },
   "file_extension": ".py",
   "mimetype": "text/x-python",
   "name": "python",
   "nbconvert_exporter": "python",
   "pygments_lexer": "ipython3",
   "version": "3.11.4"
  }
 },
 "nbformat": 4,
 "nbformat_minor": 2
}
