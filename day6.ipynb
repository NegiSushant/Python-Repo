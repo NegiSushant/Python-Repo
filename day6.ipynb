{
 "cells": [
  {
   "cell_type": "markdown",
   "metadata": {},
   "source": [
    "## function in Python"
   ]
  },
  {
   "cell_type": "code",
   "execution_count": 2,
   "metadata": {},
   "outputs": [
    {
     "name": "stdout",
     "output_type": "stream",
     "text": [
      "Odd, Even, Odd, Even, Odd, Even, Odd, Even, Odd, Even, "
     ]
    }
   ],
   "source": [
    "def is_even(i):\n",
    "    if i % 2 == 0:\n",
    "        return \"Even\"\n",
    "    else:\n",
    "        return 'Odd'\n",
    "    \n",
    "for i in range(1, 11):\n",
    "    x = is_even(i)\n",
    "    print(x, end=\", \")"
   ]
  },
  {
   "cell_type": "markdown",
   "metadata": {},
   "source": [
    "### *args and **kwargs\n",
    "*args and **kwargs are special python keywords that are used to pass the variable length of arguments to a function"
   ]
  },
  {
   "cell_type": "code",
   "execution_count": 4,
   "metadata": {},
   "outputs": [
    {
     "name": "stdout",
     "output_type": "stream",
     "text": [
      "(1, 2, 3, 4, 5, 6, 7, 8)\n"
     ]
    },
    {
     "data": {
      "text/plain": [
       "40320"
      ]
     },
     "execution_count": 4,
     "metadata": {},
     "output_type": "execute_result"
    }
   ],
   "source": [
    "# *args -> allows us to pass a variable number of non-keyword arguments to a fuctions\n",
    "# in place of *args we can use any keywords\n",
    "\n",
    "def multiply(*args):\n",
    "    pro = 1\n",
    "\n",
    "    for i in args:\n",
    "        pro *= i\n",
    "\n",
    "    print(args)\n",
    "    return pro\n",
    "\n",
    "multiply(1, 2, 3, 4, 5, 6, 7, 8)"
   ]
  },
  {
   "cell_type": "code",
   "execution_count": 5,
   "metadata": {},
   "outputs": [
    {
     "name": "stdout",
     "output_type": "stream",
     "text": [
      "india -> delhi\n",
      "china -> sanghai\n",
      "usa -> washington\n"
     ]
    }
   ],
   "source": [
    "# **kwargs -> allows us to pass any number of keywords arguments.\n",
    "# keywords arguments men that they contain a key-value pair, like python dictionary\n",
    "\n",
    "def display(**kwargs):\n",
    "    for(key, value) in kwargs.items():\n",
    "        print(key,'->', value)\n",
    "\n",
    "display(india= 'delhi', china='sanghai', usa='washington')"
   ]
  },
  {
   "cell_type": "markdown",
   "metadata": {},
   "source": [
    "#### Points to remebers while using *args and **kwargs\n",
    "- order of the arguments matter(normal -> *args -> **kwargs)\n",
    "- The words \"args\" and \"kwargs\" are only a convention, you can use any name of your choice"
   ]
  },
  {
   "cell_type": "markdown",
   "metadata": {},
   "source": [
    "### How functions are executed in memory?"
   ]
  },
  {
   "cell_type": "code",
   "execution_count": null,
   "metadata": {},
   "outputs": [],
   "source": []
  }
 ],
 "metadata": {
  "kernelspec": {
   "display_name": "Python 3",
   "language": "python",
   "name": "python3"
  },
  "language_info": {
   "codemirror_mode": {
    "name": "ipython",
    "version": 3
   },
   "file_extension": ".py",
   "mimetype": "text/x-python",
   "name": "python",
   "nbconvert_exporter": "python",
   "pygments_lexer": "ipython3",
   "version": "3.11.4"
  }
 },
 "nbformat": 4,
 "nbformat_minor": 2
}
