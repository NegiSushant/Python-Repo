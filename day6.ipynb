{
 "cells": [
  {
   "cell_type": "markdown",
   "metadata": {},
   "source": [
    "## function in Python"
   ]
  },
  {
   "cell_type": "code",
   "execution_count": 2,
   "metadata": {},
   "outputs": [
    {
     "name": "stdout",
     "output_type": "stream",
     "text": [
      "Odd, Even, Odd, Even, Odd, Even, Odd, Even, Odd, Even, "
     ]
    }
   ],
   "source": [
    "def is_even(i):\n",
    "    if i % 2 == 0:\n",
    "        return \"Even\"\n",
    "    else:\n",
    "        return 'Odd'\n",
    "    \n",
    "for i in range(1, 11):\n",
    "    x = is_even(i)\n",
    "    print(x, end=\", \")"
   ]
  },
  {
   "cell_type": "markdown",
   "metadata": {},
   "source": [
    "### *args and **kwargs\n",
    "*args and **kwargs are special python keywords that are used to pass the variable length of arguments to a function"
   ]
  },
  {
   "cell_type": "code",
   "execution_count": 4,
   "metadata": {},
   "outputs": [
    {
     "name": "stdout",
     "output_type": "stream",
     "text": [
      "(1, 2, 3, 4, 5, 6, 7, 8)\n"
     ]
    },
    {
     "data": {
      "text/plain": [
       "40320"
      ]
     },
     "execution_count": 4,
     "metadata": {},
     "output_type": "execute_result"
    }
   ],
   "source": [
    "# *args -> allows us to pass a variable number of non-keyword arguments to a fuctions\n",
    "# in place of *args we can use any keywords\n",
    "\n",
    "def multiply(*args):\n",
    "    pro = 1\n",
    "\n",
    "    for i in args:\n",
    "        pro *= i\n",
    "\n",
    "    print(args)\n",
    "    return pro\n",
    "\n",
    "multiply(1, 2, 3, 4, 5, 6, 7, 8)"
   ]
  },
  {
   "cell_type": "code",
   "execution_count": 5,
   "metadata": {},
   "outputs": [
    {
     "name": "stdout",
     "output_type": "stream",
     "text": [
      "india -> delhi\n",
      "china -> sanghai\n",
      "usa -> washington\n"
     ]
    }
   ],
   "source": [
    "# **kwargs -> allows us to pass any number of keywords arguments.\n",
    "# keywords arguments men that they contain a key-value pair, like python dictionary\n",
    "\n",
    "def display(**kwargs):\n",
    "    for(key, value) in kwargs.items():\n",
    "        print(key,'->', value)\n",
    "\n",
    "display(india= 'delhi', china='sanghai', usa='washington')"
   ]
  },
  {
   "cell_type": "markdown",
   "metadata": {},
   "source": [
    "#### Points to remebers while using *args and **kwargs\n",
    "- order of the arguments matter(normal -> *args -> **kwargs)\n",
    "- The words \"args\" and \"kwargs\" are only a convention, you can use any name of your choice"
   ]
  },
  {
   "cell_type": "markdown",
   "metadata": {},
   "source": [
    "### How functions are executed in memory?"
   ]
  },
  {
   "cell_type": "code",
   "execution_count": null,
   "metadata": {},
   "outputs": [],
   "source": []
  },
  {
   "cell_type": "markdown",
   "metadata": {},
   "source": [
    "### Variable Scope\n"
   ]
  },
  {
   "cell_type": "code",
   "execution_count": 6,
   "metadata": {},
   "outputs": [
    {
     "name": "stdout",
     "output_type": "stream",
     "text": [
      "5\n",
      "6\n",
      "5\n"
     ]
    }
   ],
   "source": [
    "# global scope and local scope\n",
    "def g(y):\n",
    "    print(x)\n",
    "    print(x+1)\n",
    "\n",
    "x = 5\n",
    "g(x)\n",
    "print(x)"
   ]
  },
  {
   "cell_type": "code",
   "execution_count": 7,
   "metadata": {},
   "outputs": [
    {
     "name": "stdout",
     "output_type": "stream",
     "text": [
      "in f(x): x= 4\n",
      "in main program scope: z= 4\n",
      "in main program scope: x= 3\n"
     ]
    }
   ],
   "source": [
    "def f(x):\n",
    "    x = x + 1\n",
    "    print('in f(x): x=', x)\n",
    "    return x\n",
    "\n",
    "x = 3\n",
    "z = f(x)\n",
    "\n",
    "print('in main program scope: z=', z)\n",
    "print('in main program scope: x=', x)"
   ]
  },
  {
   "cell_type": "markdown",
   "metadata": {},
   "source": [
    "### Nested Function"
   ]
  },
  {
   "cell_type": "code",
   "execution_count": 11,
   "metadata": {},
   "outputs": [
    {
     "name": "stdout",
     "output_type": "stream",
     "text": [
      "inside function g\n",
      "inside function f\n"
     ]
    }
   ],
   "source": [
    "def f():\n",
    "    def g():\n",
    "        print('inside function g')\n",
    "    g()\n",
    "    print('inside function f')\n",
    "\n",
    "f()"
   ]
  },
  {
   "cell_type": "markdown",
   "metadata": {},
   "source": [
    "#### first class citizen\n",
    "In programming language design, first-class citizen(also type, object, entity, or value) in given programming language is an entity which supports all the operations generally available to other entities.\n",
    "- these operations typically include being passed as an argument, returned from a function and assigned to a variable"
   ]
  },
  {
   "cell_type": "markdown",
   "metadata": {},
   "source": [
    "#### functions are 1st class citizen"
   ]
  },
  {
   "cell_type": "code",
   "execution_count": 17,
   "metadata": {},
   "outputs": [
    {
     "name": "stdout",
     "output_type": "stream",
     "text": [
      "<class 'function'>\n",
      "1635070609664\n"
     ]
    }
   ],
   "source": [
    "# type and id\n",
    "def square(num):\n",
    "    return num**2\n",
    "\n",
    "print(type(square))\n",
    "\n",
    "print(id(square))"
   ]
  },
  {
   "cell_type": "code",
   "execution_count": 18,
   "metadata": {},
   "outputs": [
    {
     "name": "stdout",
     "output_type": "stream",
     "text": [
      "1635070609664\n"
     ]
    },
    {
     "data": {
      "text/plain": [
       "9"
      ]
     },
     "execution_count": 18,
     "metadata": {},
     "output_type": "execute_result"
    }
   ],
   "source": [
    "# reassign\n",
    "x = square\n",
    "print(id(x))\n",
    "x(3)"
   ]
  },
  {
   "cell_type": "code",
   "execution_count": 16,
   "metadata": {},
   "outputs": [
    {
     "ename": "NameError",
     "evalue": "name 'x' is not defined",
     "output_type": "error",
     "traceback": [
      "\u001b[1;31m---------------------------------------------------------------------------\u001b[0m",
      "\u001b[1;31mNameError\u001b[0m                                 Traceback (most recent call last)",
      "Cell \u001b[1;32mIn[16], line 2\u001b[0m\n\u001b[0;32m      1\u001b[0m \u001b[38;5;66;03m# deleting\u001b[39;00m\n\u001b[1;32m----> 2\u001b[0m \u001b[38;5;28;01mdel\u001b[39;00m \u001b[43mx\u001b[49m\n\u001b[0;32m      4\u001b[0m \u001b[38;5;28mprint\u001b[39m(square(\u001b[38;5;241m2\u001b[39m))\n",
      "\u001b[1;31mNameError\u001b[0m: name 'x' is not defined"
     ]
    }
   ],
   "source": [
    "# deleting\n",
    "del x\n",
    "\n",
    "# print(square(2))"
   ]
  },
  {
   "cell_type": "code",
   "execution_count": 20,
   "metadata": {},
   "outputs": [
    {
     "name": "stdout",
     "output_type": "stream",
     "text": [
      "[1, 2, 3, 4, <function square at 0x0000017CB1CD8900>]\n",
      "9\n"
     ]
    }
   ],
   "source": [
    "# storing \n",
    "l = [1, 2, 3, 4, square]\n",
    "print(l)\n",
    "\n",
    "print(l[-1](3))"
   ]
  },
  {
   "cell_type": "code",
   "execution_count": 21,
   "metadata": {},
   "outputs": [
    {
     "name": "stdout",
     "output_type": "stream",
     "text": [
      "7\n"
     ]
    }
   ],
   "source": [
    "# returning a function\n",
    "def f():\n",
    "    def x(a, b):\n",
    "        return a + b\n",
    "    return x\n",
    "\n",
    "val = f()(3, 4)\n",
    "print(val)"
   ]
  },
  {
   "cell_type": "code",
   "execution_count": null,
   "metadata": {},
   "outputs": [],
   "source": [
    "# function as argument\n",
    "\n",
    "def fun"
   ]
  },
  {
   "cell_type": "markdown",
   "metadata": {},
   "source": [
    "### Higher order function"
   ]
  },
  {
   "cell_type": "code",
   "execution_count": 22,
   "metadata": {},
   "outputs": [
    {
     "name": "stdout",
     "output_type": "stream",
     "text": [
      "[1, 4, 9, 16, 25]\n"
     ]
    }
   ],
   "source": [
    "def square(a):\n",
    "    return a**2\n",
    "\n",
    "def transform(f, L):\n",
    "    output = []\n",
    "    for i in L:\n",
    "        output.append(f(i))\n",
    "    \n",
    "    print(output)\n",
    "\n",
    "L = [1, 2, 3, 4, 5]\n",
    "\n",
    "transform(square, L)"
   ]
  },
  {
   "cell_type": "markdown",
   "metadata": {},
   "source": [
    "### Map\n"
   ]
  },
  {
   "cell_type": "code",
   "execution_count": 23,
   "metadata": {},
   "outputs": [
    {
     "data": {
      "text/plain": [
       "[1, 4, 9, 16, 25]"
      ]
     },
     "execution_count": 23,
     "metadata": {},
     "output_type": "execute_result"
    }
   ],
   "source": [
    "# Square the items of a list\n",
    "\n",
    "list(map(lambda x:x**2, [1, 2, 3, 4, 5]))"
   ]
  },
  {
   "cell_type": "code",
   "execution_count": 24,
   "metadata": {},
   "outputs": [
    {
     "data": {
      "text/plain": [
       "['odd', 'even', 'odd', 'even', 'odd']"
      ]
     },
     "execution_count": 24,
     "metadata": {},
     "output_type": "execute_result"
    }
   ],
   "source": [
    "# odd/even labelling of list items\n",
    "L = [1, 2, 3, 4, 5]\n",
    "list(map(lambda x: 'even' if x %2==0 else 'odd', L))\n"
   ]
  },
  {
   "cell_type": "code",
   "execution_count": 26,
   "metadata": {},
   "outputs": [
    {
     "data": {
      "text/plain": [
       "['Jack', 'John', 'Ankita']"
      ]
     },
     "execution_count": 26,
     "metadata": {},
     "output_type": "execute_result"
    }
   ],
   "source": [
    "# fetch names of all users \n",
    "\n",
    "users = [\n",
    "    {\n",
    "        'name':'Jack',\n",
    "        'age': 21,\n",
    "        'gender': 'male'\n",
    "    }, \n",
    "    {\n",
    "        'name': 'John',\n",
    "        'age': 26,\n",
    "        'gender': 'male'\n",
    "    },\n",
    "    {\n",
    "        'name': 'Ankita',\n",
    "        'age': 20,\n",
    "        'gender': 'female'\n",
    "    }\n",
    "]\n",
    "\n",
    "list(map(lambda users: users['name'], users))\n"
   ]
  },
  {
   "cell_type": "markdown",
   "metadata": {},
   "source": [
    "### Filter"
   ]
  },
  {
   "cell_type": "code",
   "execution_count": 27,
   "metadata": {},
   "outputs": [
    {
     "data": {
      "text/plain": [
       "[6, 7]"
      ]
     },
     "execution_count": 27,
     "metadata": {},
     "output_type": "execute_result"
    }
   ],
   "source": [
    "# number greater than 5\n",
    "l=[3, 4,5, 6, 7]\n",
    "\n",
    "list(filter(lambda x: x>5, l))\n"
   ]
  },
  {
   "cell_type": "code",
   "execution_count": 29,
   "metadata": {},
   "outputs": [
    {
     "data": {
      "text/plain": [
       "['apple']"
      ]
     },
     "execution_count": 29,
     "metadata": {},
     "output_type": "execute_result"
    }
   ],
   "source": [
    "# fetch fruits starting with 'a'\n",
    "\n",
    "fruits = ['apple', 'guvaa', 'cherry']\n",
    "\n",
    "list(filter(lambda x: x.startswith('a'), fruits))"
   ]
  },
  {
   "cell_type": "markdown",
   "metadata": {},
   "source": [
    "### Reduce"
   ]
  },
  {
   "cell_type": "code",
   "execution_count": 30,
   "metadata": {},
   "outputs": [
    {
     "data": {
      "text/plain": [
       "15"
      ]
     },
     "execution_count": 30,
     "metadata": {},
     "output_type": "execute_result"
    }
   ],
   "source": [
    "# sum of all item\n",
    "\n",
    "import functools\n",
    "\n",
    "functools.reduce(lambda x, y: x+y, [1, 2, 3, 4, 5])"
   ]
  },
  {
   "cell_type": "code",
   "execution_count": 31,
   "metadata": {},
   "outputs": [
    {
     "data": {
      "text/plain": [
       "1"
      ]
     },
     "execution_count": 31,
     "metadata": {},
     "output_type": "execute_result"
    }
   ],
   "source": [
    "# find min\n",
    "functools.reduce(lambda x, y: x if x<y else y, [23, 11, 45, 10, 1])"
   ]
  }
 ],
 "metadata": {
  "kernelspec": {
   "display_name": "Python 3",
   "language": "python",
   "name": "python3"
  },
  "language_info": {
   "codemirror_mode": {
    "name": "ipython",
    "version": 3
   },
   "file_extension": ".py",
   "mimetype": "text/x-python",
   "name": "python",
   "nbconvert_exporter": "python",
   "pygments_lexer": "ipython3",
   "version": "3.11.4"
  }
 },
 "nbformat": 4,
 "nbformat_minor": 2
}
