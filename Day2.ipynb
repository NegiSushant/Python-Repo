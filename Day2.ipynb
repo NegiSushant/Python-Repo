{
 "cells": [
  {
   "cell_type": "markdown",
   "metadata": {},
   "source": [
    "if else statement"
   ]
  },
  {
   "cell_type": "code",
   "execution_count": 1,
   "metadata": {},
   "outputs": [
    {
     "name": "stdout",
     "output_type": "stream",
     "text": [
      "34\n"
     ]
    }
   ],
   "source": [
    "#menu driven calculator\n",
    "fnum = int(input('enter the 1st number: '))\n",
    "snum = int(input('enter second number: '))\n",
    "print(fnum + snum)"
   ]
  },
  {
   "cell_type": "markdown",
   "metadata": {},
   "source": [
    "Modules in Python\n",
    "    Math\n",
    "    Keyword\n",
    "    random\n",
    "    datetime"
   ]
  },
  {
   "cell_type": "code",
   "execution_count": 2,
   "metadata": {},
   "outputs": [
    {
     "name": "stdout",
     "output_type": "stream",
     "text": [
      "4\n"
     ]
    }
   ],
   "source": [
    "#math\n",
    "import math\n",
    "print(pow(2,2))"
   ]
  },
  {
   "cell_type": "code",
   "execution_count": 4,
   "metadata": {},
   "outputs": [
    {
     "name": "stdout",
     "output_type": "stream",
     "text": [
      "28\n"
     ]
    }
   ],
   "source": [
    "#random\n",
    "import random\n",
    "print(random.randint(1, 100))"
   ]
  },
  {
   "cell_type": "code",
   "execution_count": 7,
   "metadata": {},
   "outputs": [
    {
     "name": "stdout",
     "output_type": "stream",
     "text": [
      "2024-10-12 21:12:03.387845\n",
      "\n",
      "Please wait a moment while I gather a list of all available modules...\n",
      "\n",
      "test_sqlite3: testing with version '2.6.0', sqlite_version '3.42.0'\n"
     ]
    },
    {
     "name": "stderr",
     "output_type": "stream",
     "text": [
      "c:\\Python311\\Lib\\site-packages\\_distutils_hack\\__init__.py:33: UserWarning: Setuptools is replacing distutils.\n",
      "  warnings.warn(\"Setuptools is replacing distutils.\")\n"
     ]
    },
    {
     "name": "stdout",
     "output_type": "stream",
     "text": [
      "IPython             asyncio             math                sys\n",
      "__future__          asyncore            matplotlib_inline   sysconfig\n",
      "__hello__           atexit              mimetypes           tabnanny\n",
      "__phello__          audioop             mmap                tarfile\n",
      "_abc                base64              mmapfile            telnetlib\n",
      "_aix_support        bdb                 mmsystem            tempfile\n",
      "_ast                binascii            modulefinder        test\n",
      "_asyncio            bisect              msilib              textwrap\n",
      "_bisect             builtins            msvcrt              this\n",
      "_blake2             bz2                 multiprocessing     threading\n",
      "_bootsubprocess     cProfile            nest_asyncio        time\n",
      "_bz2                calendar            netbios             timeit\n",
      "_codecs             cgi                 netrc               timer\n",
      "_codecs_cn          cgitb               nntplib             tkinter\n",
      "_codecs_hk          chunk               nt                  token\n",
      "_codecs_iso2022     cmath               ntpath              tokenize\n",
      "_codecs_jp          cmd                 ntsecuritycon       tomllib\n",
      "_codecs_kr          code                nturl2path          tornado\n",
      "_codecs_tw          codecs              numbers             trace\n",
      "_collections        codeop              odbc                traceback\n",
      "_collections_abc    collections         opcode              tracemalloc\n",
      "_compat_pickle      colorama            operator            traitlets\n",
      "_compression        colorsys            optparse            tty\n",
      "_contextvars        comm                os                  turtle\n",
      "_csv                commctrl            packaging           turtledemo\n",
      "_ctypes             compileall          parso               types\n",
      "_ctypes_test        concurrent          pathlib             typing\n",
      "_datetime           configparser        pdb                 typing_extensions\n",
      "_decimal            contextlib          perfmon             unicodedata\n",
      "_distutils_hack     contextvars         pickle              unittest\n",
      "_elementtree        copy                pickletools         urllib\n",
      "_functools          copyreg             pip                 uu\n",
      "_hashlib            crypt               pipes               uuid\n",
      "_heapq              csv                 pkg_resources       venv\n",
      "_imp                ctypes              pkgutil             warnings\n",
      "_io                 curses              platform            wave\n",
      "_json               dataclasses         platformdirs        wcwidth\n",
      "_locale             datetime            plistlib            weakref\n",
      "_lsprof             dateutil            poplib              webbrowser\n",
      "_lzma               day1Basic           posixpath           win2kras\n",
      "_markupbase         day2Basic           pprint              win32api\n",
      "_md5                dbm                 profile             win32clipboard\n",
      "_msi                dde                 prompt_toolkit      win32com\n",
      "_multibytecodec     debugpy             pstats              win32con\n",
      "_multiprocessing    decimal             psutil              win32console\n",
      "_opcode             decorator           pty                 win32cred\n",
      "_operator           difflib             pure_eval           win32crypt\n",
      "_osx_support        dis                 py_compile          win32cryptcon\n",
      "_overlapped         distutils           pyclbr              win32event\n",
      "_pickle             doctest             pydoc               win32evtlog\n",
      "_py_abc             email               pydoc_data          win32evtlogutil\n",
      "_pydecimal          encodings           pyexpat             win32file\n",
      "_pyio               ensurepip           pygments            win32gui\n",
      "_queue              enum                pythoncom           win32gui_struct\n",
      "_random             errno               pywin               win32help\n",
      "_sha1               executing           pywin32_bootstrap   win32inet\n",
      "_sha256             faulthandler        pywin32_testutil    win32inetcon\n",
      "_sha3               filecmp             pywintypes          win32job\n",
      "_sha512             fileinput           queue               win32lz\n",
      "_signal             fnmatch             quopri              win32net\n",
      "_sitebuiltins       fractions           random              win32netcon\n",
      "_socket             ftplib              rasutil             win32pdh\n",
      "_sqlite3            functools           re                  win32pdhquery\n",
      "_sre                gc                  regcheck            win32pdhutil\n",
      "_ssl                genericpath         regutil             win32pipe\n",
      "_stat               getopt              reprlib             win32print\n",
      "_statistics         getpass             rlcompleter         win32process\n",
      "_string             gettext             runpy               win32profile\n",
      "_strptime           glob                sched               win32ras\n",
      "_struct             graphlib            secrets             win32rcparser\n",
      "_symtable           gzip                select              win32security\n",
      "_testbuffer         hashlib             selectors           win32service\n",
      "_testcapi           heapq               servicemanager      win32serviceutil\n",
      "_testconsole        hmac                setuptools          win32timezone\n",
      "_testimportmultiple html                shelve              win32trace\n",
      "_testinternalcapi   http                shlex               win32traceutil\n",
      "_testmultiphase     idlelib             shutil              win32transaction\n",
      "_thread             imaplib             signal              win32ts\n",
      "_threading_local    imghdr              site                win32ui\n",
      "_tkinter            imp                 six                 win32uiole\n",
      "_tokenize           importlib           smtpd               win32verstamp\n",
      "_tracemalloc        inspect             smtplib             win32wnet\n",
      "_typing             io                  sndhdr              winerror\n",
      "_uuid               ipaddress           socket              winioctlcon\n",
      "_warnings           ipykernel           socketserver        winnt\n",
      "_weakref            ipykernel_launcher  sqlite3             winperf\n",
      "_weakrefset         isapi               sre_compile         winreg\n",
      "_win32sysloader     itertools           sre_constants       winsound\n",
      "_winapi             jedi                sre_parse           winxpgui\n",
      "_winxptheme         json                ssl                 winxptheme\n",
      "_xxsubinterpreters  jupyter             sspi                wsgiref\n",
      "_zoneinfo           jupyter_client      sspicon             xdrlib\n",
      "abc                 jupyter_core        stack_data          xml\n",
      "adodbapi            keyword             start_pythonwin     xmlrpc\n",
      "afxres              lib2to3             stat                xxsubtype\n",
      "aifc                linecache           statistics          zipapp\n",
      "antigravity         locale              string              zipfile\n",
      "argparse            logging             stringprep          zipimport\n",
      "array               lzma                struct              zlib\n",
      "ast                 mailbox             subprocess          zmq\n",
      "asttokens           mailcap             sunau               zoneinfo\n",
      "asynchat            marshal             symtable            \n",
      "\n",
      "Enter any module name to get more help.  Or, type \"modules spam\" to search\n",
      "for modules whose name or summary contain the string \"spam\".\n",
      "\n"
     ]
    }
   ],
   "source": [
    "# datetime\n",
    "import datetime\n",
    "\n",
    "print(datetime.datetime.now())\n",
    "help('modules')"
   ]
  },
  {
   "cell_type": "markdown",
   "metadata": {},
   "source": [
    "Loops in python"
   ]
  },
  {
   "cell_type": "code",
   "execution_count": 11,
   "metadata": {},
   "outputs": [
    {
     "name": "stdout",
     "output_type": "stream",
     "text": [
      "10\n",
      "20\n",
      "30\n",
      "40\n",
      "50\n",
      "60\n",
      "70\n",
      "80\n",
      "90\n",
      "100\n",
      "1\n",
      "2\n",
      "limit cross\n"
     ]
    }
   ],
   "source": [
    " #while loop\n",
    "num = 10\n",
    "\n",
    "i = 1\n",
    "while i < 11:\n",
    "    print(num * i)\n",
    "    i += 1\n",
    "\n",
    "#while loop with else\n",
    "\n",
    "x = 1\n",
    "while x < 3:\n",
    "    print(x)\n",
    "    x += 1\n",
    "\n",
    "else:\n",
    "    print('limit cross')"
   ]
  },
  {
   "cell_type": "markdown",
   "metadata": {},
   "source": [
    "### for loop"
   ]
  },
  {
   "cell_type": "code",
   "execution_count": 17,
   "metadata": {},
   "outputs": [
    {
     "name": "stdout",
     "output_type": "stream",
     "text": [
      "\n",
      "@\n",
      "\n",
      "@\n",
      "@\n",
      "\n",
      "@\n",
      "@\n",
      "@\n",
      "\n",
      "@\n",
      "@\n",
      "@\n",
      "@\n",
      "\n"
     ]
    }
   ],
   "source": [
    "#for loop\n",
    "x = 5\n",
    "for i in range(0, x):\n",
    "    for j in range(0, i):\n",
    "        print('@')\n",
    "    print()"
   ]
  }
 ],
 "metadata": {
  "kernelspec": {
   "display_name": "Python 3",
   "language": "python",
   "name": "python3"
  },
  "language_info": {
   "codemirror_mode": {
    "name": "ipython",
    "version": 3
   },
   "file_extension": ".py",
   "mimetype": "text/x-python",
   "name": "python",
   "nbconvert_exporter": "python",
   "pygments_lexer": "ipython3",
   "version": "3.11.4"
  }
 },
 "nbformat": 4,
 "nbformat_minor": 2
}
